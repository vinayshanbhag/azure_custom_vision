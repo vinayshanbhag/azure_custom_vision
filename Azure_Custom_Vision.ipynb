{
  "nbformat": 4,
  "nbformat_minor": 0,
  "metadata": {
    "colab": {
      "name": "Azure Custom Vision.ipynb",
      "provenance": [],
      "collapsed_sections": [],
      "authorship_tag": "ABX9TyNPtZ3edRPcKSNgRkzi2Xc0",
      "include_colab_link": true
    },
    "kernelspec": {
      "name": "python3",
      "display_name": "Python 3"
    },
    "language_info": {
      "name": "python"
    },
    "widgets": {
      "application/vnd.jupyter.widget-state+json": {}
    }
  },
  "cells": [
    {
      "cell_type": "markdown",
      "metadata": {
        "id": "view-in-github",
        "colab_type": "text"
      },
      "source": [
        "<a href=\"https://colab.research.google.com/github/vinayshanbhag/azure_custom_vision/blob/main/Azure_Custom_Vision.ipynb\" target=\"_parent\"><img src=\"https://colab.research.google.com/assets/colab-badge.svg\" alt=\"Open In Colab\"/></a>"
      ]
    },
    {
      "cell_type": "markdown",
      "source": [
        "# Product search using Azure Custom Vision Service\n",
        "\n",
        "Azure Custom Vision is an image recognition service that lets you build, deploy, and improve your own image identifier models. An image identifier applies labels to images, according to their detected visual characteristics. Each label represents a classifications or objects. Unlike the Computer Vision service, Custom Vision allows you to specify your own labels and train custom models to detect them.\n",
        "\n",
        "The Custom Vision service uses a machine learning algorithm to analyze images. You, the developer, submit groups of images that have and don't have the characteristics in question. You label the images yourself at the time of submission. Then the algorithm trains to this data and calculates its own accuracy by testing itself on those same images. Once you've trained the algorithm, you can test, retrain, and eventually use it in your image recognition app to classify images. You can also export the model itself for offline use.\n",
        "\n",
        "Multi-class (not multi-label) classifier is explored here. Each tag (product type) must have at least 5 images in the training set. "
      ],
      "metadata": {
        "id": "12k9aGKRTGDe"
      }
    },
    {
      "cell_type": "markdown",
      "source": [
        "# Installation\n",
        "\n",
        "```pip install azure-cognitiveservices-vision-customvision```"
      ],
      "metadata": {
        "id": "WcqaElm0UFUu"
      }
    },
    {
      "cell_type": "code",
      "execution_count": 2,
      "metadata": {
        "colab": {
          "base_uri": "https://localhost:8080/"
        },
        "id": "0jTPPtPbEfDE",
        "outputId": "db9f2066-b3e6-41ff-d81d-aac092d2c931"
      },
      "outputs": [
        {
          "output_type": "stream",
          "name": "stdout",
          "text": [
            "Requirement already satisfied: azure-cognitiveservices-vision-customvision in /usr/local/lib/python3.7/dist-packages (3.1.0)\n",
            "Requirement already satisfied: msrest>=0.5.0 in /usr/local/lib/python3.7/dist-packages (from azure-cognitiveservices-vision-customvision) (0.6.21)\n",
            "Requirement already satisfied: azure-common~=1.1 in /usr/local/lib/python3.7/dist-packages (from azure-cognitiveservices-vision-customvision) (1.1.28)\n",
            "Requirement already satisfied: isodate>=0.6.0 in /usr/local/lib/python3.7/dist-packages (from msrest>=0.5.0->azure-cognitiveservices-vision-customvision) (0.6.1)\n",
            "Requirement already satisfied: certifi>=2017.4.17 in /usr/local/lib/python3.7/dist-packages (from msrest>=0.5.0->azure-cognitiveservices-vision-customvision) (2021.10.8)\n",
            "Requirement already satisfied: requests-oauthlib>=0.5.0 in /usr/local/lib/python3.7/dist-packages (from msrest>=0.5.0->azure-cognitiveservices-vision-customvision) (1.3.1)\n",
            "Requirement already satisfied: requests~=2.16 in /usr/local/lib/python3.7/dist-packages (from msrest>=0.5.0->azure-cognitiveservices-vision-customvision) (2.23.0)\n",
            "Requirement already satisfied: six in /usr/local/lib/python3.7/dist-packages (from isodate>=0.6.0->msrest>=0.5.0->azure-cognitiveservices-vision-customvision) (1.15.0)\n",
            "Requirement already satisfied: urllib3!=1.25.0,!=1.25.1,<1.26,>=1.21.1 in /usr/local/lib/python3.7/dist-packages (from requests~=2.16->msrest>=0.5.0->azure-cognitiveservices-vision-customvision) (1.24.3)\n",
            "Requirement already satisfied: chardet<4,>=3.0.2 in /usr/local/lib/python3.7/dist-packages (from requests~=2.16->msrest>=0.5.0->azure-cognitiveservices-vision-customvision) (3.0.4)\n",
            "Requirement already satisfied: idna<3,>=2.5 in /usr/local/lib/python3.7/dist-packages (from requests~=2.16->msrest>=0.5.0->azure-cognitiveservices-vision-customvision) (2.10)\n",
            "Requirement already satisfied: oauthlib>=3.0.0 in /usr/local/lib/python3.7/dist-packages (from requests-oauthlib>=0.5.0->msrest>=0.5.0->azure-cognitiveservices-vision-customvision) (3.2.0)\n"
          ]
        }
      ],
      "source": [
        "!pip install azure-cognitiveservices-vision-customvision"
      ]
    },
    {
      "cell_type": "code",
      "source": [
        "from azure.cognitiveservices.vision.customvision.training import CustomVisionTrainingClient\n",
        "from azure.cognitiveservices.vision.customvision.prediction import CustomVisionPredictionClient\n",
        "from azure.cognitiveservices.vision.customvision.training.models import ImageFileCreateBatch, ImageFileCreateEntry, Region\n",
        "from azure.cognitiveservices.vision.customvision.training.models import Classifier\n",
        "from msrest.authentication import ApiKeyCredentials\n",
        "import os, time, uuid\n",
        "\n",
        "import pandas as pd\n",
        "from IPython.display import display, HTML"
      ],
      "metadata": {
        "id": "D2T_IeW5El0S"
      },
      "execution_count": 81,
      "outputs": []
    },
    {
      "cell_type": "markdown",
      "source": [
        "# Azure Subscription\n",
        "\n",
        "Azure subscription - [Create one for free](https://azure.microsoft.com/free/cognitive-services/)\n",
        "\n",
        "Update keys and resource ids below. These are found under Settings at [customvision.ai](https://www.customvision.ai/projects)"
      ],
      "metadata": {
        "id": "RSHts_WWUbxC"
      }
    },
    {
      "cell_type": "code",
      "source": [
        "# Replace with valid values\n",
        "ENDPOINT = \"your_endpoint\"\n",
        "training_key = \"your_training_key\"\n",
        "prediction_key = \"your_prediction_key\"\n",
        "prediction_resource_id = \"your_prediction_resource_id\""
      ],
      "metadata": {
        "id": "uIflLhNMEtMq"
      },
      "execution_count": 29,
      "outputs": []
    },
    {
      "cell_type": "code",
      "source": [
        "credentials = ApiKeyCredentials(in_headers={\"Training-key\": training_key})\n",
        "trainer = CustomVisionTrainingClient(ENDPOINT, credentials)\n",
        "prediction_credentials = ApiKeyCredentials(in_headers={\"Prediction-key\": prediction_key})\n",
        "predictor = CustomVisionPredictionClient(ENDPOINT, prediction_credentials)"
      ],
      "metadata": {
        "id": "Z4lA8W6KE0cX"
      },
      "execution_count": 30,
      "outputs": []
    },
    {
      "cell_type": "markdown",
      "source": [
        "Create a Custom Vision project"
      ],
      "metadata": {
        "id": "GyGplDNeViPS"
      }
    },
    {
      "cell_type": "code",
      "source": [
        "publish_iteration_name = \"makemodelclassification\"\n",
        "\n",
        "credentials = ApiKeyCredentials(in_headers={\"Training-key\": training_key})\n",
        "trainer = CustomVisionTrainingClient(ENDPOINT, credentials)\n",
        "\n",
        "# Create a new project\n",
        "print (\"Creating project...\")\n",
        "project_name = uuid.uuid4()\n",
        "project = trainer.create_project(project_name,classification_type=Classifier.multiclass)"
      ],
      "metadata": {
        "colab": {
          "base_uri": "https://localhost:8080/"
        },
        "id": "_sf8Ut9xHShd",
        "outputId": "9698e3e3-a428-4a75-b95a-6dc590ee0ecd"
      },
      "execution_count": 53,
      "outputs": [
        {
          "output_type": "stream",
          "name": "stdout",
          "text": [
            "Creating project...\n"
          ]
        }
      ]
    },
    {
      "cell_type": "markdown",
      "source": [
        "Download product images. Select products that have atleast 5 images.\n",
        "Training will fail if a tag has less than 5 images associated with it.\n",
        "Free tier is limited to 50 tags (unique products)\n"
      ],
      "metadata": {
        "id": "BIbM4zULVoYX"
      }
    },
    {
      "cell_type": "code",
      "source": [
        "!git clone https://github.com/vinayshanbhag/images.git"
      ],
      "metadata": {
        "colab": {
          "base_uri": "https://localhost:8080/"
        },
        "id": "iucfzRT8IKYK",
        "outputId": "0b01c579-b570-4a7e-8b0a-ab4933f63326"
      },
      "execution_count": 32,
      "outputs": [
        {
          "output_type": "stream",
          "name": "stdout",
          "text": [
            "fatal: destination path 'images' already exists and is not an empty directory.\n"
          ]
        }
      ]
    },
    {
      "cell_type": "code",
      "source": [
        "df = pd.read_csv(\"/content/images/products.csv\", header=None)\n",
        "df_temp = df[[0,5]].copy()\n",
        "df_temp.columns = ['path','tag']\n",
        "# Pick only products with 5 or more images per tag\n",
        "#df_temp = df_temp[df_temp.tag.isin(df_temp.tag.value_counts().loc[lambda x: x>=5].index)].copy()\n",
        "allowed_tags = ['Apple MacBook Pro 14 2021', 'Sonos One', 'Amazon Echo Show 10',\n",
        "       'Google Nest Audio', 'Sony PS4 Console', \n",
        "       'Apple iPad Pro 11', 'Apple AirPods Max', 'Sonos Beam Gen2',\n",
        "       'HP ProBook', 'Sonos Playbar', 'Google Nest Wifi', 'Sonos Five',\n",
        "       'Apple Magic Trackpad', 'Oculus Quest2', 'Apple MacBook Air 2020',\n",
        "       'Apple HomePod Mini', 'Ring Video Doorbell', 'HP Deskjet 3755',\n",
        "       'Sonos Move', 'Google Wifi', 'Sonos Play1', 'HP EliteBook',\n",
        "       'Sonos Roam', 'Apple AirPods Pro', 'Apple TV 4K',\n",
        "       'Google Nest Mini', 'Linksys Hydra Pro Axe6600',\n",
        "       'HP Spectre X360', 'Linksys Velop Ac2200', 'iRobot Roomba I3 Evo',\n",
        "       'Apple AirPods 3', 'Amazon Echo Show', 'Apple iPad Mini',\n",
        "       'Google Nest Thermostat E', 'Apple Watch SE', 'Apple iPad Air',\n",
        "       'Apple Watch Series 7', 'Microsoft Surface Pro',\n",
        "       'Nintendo Switch Console', 'Sonos Sub Gen3',\n",
        "       'Apple Magic Keyboard Touch ID Numeric Keypad',\n",
        "       'Amazon Echo Dot 4', 'Roku Ultra 4K']\n",
        "df_temp = df_temp[df_temp.tag.isin(allowed_tags)].copy()\n",
        "len(df_temp.tag.unique())"
      ],
      "metadata": {
        "colab": {
          "base_uri": "https://localhost:8080/"
        },
        "id": "x2chL0BCJwiw",
        "outputId": "30fe4bb1-a86b-4217-bf55-1fe88f5b25ab"
      },
      "execution_count": 54,
      "outputs": [
        {
          "output_type": "execute_result",
          "data": {
            "text/plain": [
              "43"
            ]
          },
          "metadata": {},
          "execution_count": 54
        }
      ]
    },
    {
      "cell_type": "markdown",
      "source": [
        "Prepare images and tags for upload"
      ],
      "metadata": {
        "id": "4Vlj1NNLWSR5"
      }
    },
    {
      "cell_type": "code",
      "source": [
        "#update local file paths\n",
        "df_temp['path'] = df_temp.path.apply(lambda x:\"/content/images/preprocessed/\"+x.split(\"/\")[-1])"
      ],
      "metadata": {
        "id": "cYIU98BxKM8m"
      },
      "execution_count": 55,
      "outputs": []
    },
    {
      "cell_type": "code",
      "source": [
        "# create tags\n",
        "str_tags = df_temp.tag.unique()\n",
        "tag_dict = dict() #{str_tag: Tag}\n",
        "for tag in str_tags:\n",
        "  t = trainer.create_tag(project.id, tag)\n",
        "  tag_dict[tag]=t"
      ],
      "metadata": {
        "id": "qH3wKaLLLiQO"
      },
      "execution_count": 56,
      "outputs": []
    },
    {
      "cell_type": "code",
      "source": [
        "image_list = []\n",
        "tag_list = []\n",
        "for row in df_temp.values:\n",
        "  with open(row[0],'rb') as image_contents:\n",
        "    image_list.append(ImageFileCreateEntry(name=row[0].split(\"/\")[-1], contents=image_contents.read(), tag_ids=[tag_dict[row[1]].id]))\n",
        "    tag_list.append(row[1])"
      ],
      "metadata": {
        "id": "EswynncfNmNS"
      },
      "execution_count": 57,
      "outputs": []
    },
    {
      "cell_type": "code",
      "source": [
        "n= len(image_list)\n",
        "n"
      ],
      "metadata": {
        "colab": {
          "base_uri": "https://localhost:8080/"
        },
        "id": "31rRqk59hUXq",
        "outputId": "577c39b1-a028-4b51-a039-2280a8cf7d4d"
      },
      "execution_count": 58,
      "outputs": [
        {
          "output_type": "execute_result",
          "data": {
            "text/plain": [
              "238"
            ]
          },
          "metadata": {},
          "execution_count": 58
        }
      ]
    },
    {
      "cell_type": "markdown",
      "source": [
        "Atmost 64 images/tags can be uploaded at a time. Split into batches of 64 and upload"
      ],
      "metadata": {
        "id": "mgQRtYENWXZ5"
      }
    },
    {
      "cell_type": "code",
      "source": [
        "batch_size = 64\n",
        "for i in range(0,n,batch_size):\n",
        "  if (i+batch_size)<n:\n",
        "    upload_result = trainer.create_images_from_files(project.id, ImageFileCreateBatch(images=image_list[i:i+batch_size]))\n",
        "    if not upload_result.is_batch_successful:\n",
        "      print(\"Image batch upload failed.\")\n",
        "      for idx,image in enumerate(upload_result.images):\n",
        "        print(\"Image status: \", image.status, tag_list[idx])\n",
        "      exit(-1)\n",
        "  else:\n",
        "    upload_result = trainer.create_images_from_files(project.id, ImageFileCreateBatch(images=image_list[i:]))\n",
        "    if not upload_result.is_batch_successful:\n",
        "      print(\"Image batch upload failed.\")\n",
        "      for idx, image in enumerate(upload_result.images):\n",
        "        print(\"Image status: \", image.status, tag_list[idx])\n",
        "      exit(-1)"
      ],
      "metadata": {
        "id": "55QFNOOcdLBN"
      },
      "execution_count": 59,
      "outputs": []
    },
    {
      "cell_type": "markdown",
      "source": [
        "Initiate training after fixing any upload errors"
      ],
      "metadata": {
        "id": "ZtzrZrukWnwq"
      }
    },
    {
      "cell_type": "code",
      "source": [
        "print (\"Training...\")\n",
        "iteration = trainer.train_project(project.id)\n",
        "while iteration.status != \"Completed\":\n",
        "    iteration = trainer.get_iteration(project.id, iteration.id)\n",
        "    print (\"Training status: \" + iteration.status)\n",
        "    print (\"Waiting 10 seconds...\")\n",
        "    time.sleep(10)"
      ],
      "metadata": {
        "colab": {
          "base_uri": "https://localhost:8080/",
          "height": 34,
          "referenced_widgets": [
            "7240a046b9f44e2f9b36fc1a734c6935"
          ]
        },
        "id": "48mo9lGHKh0F",
        "outputId": "d93bf20e-6dbb-4a66-bddd-ead347a42a2a"
      },
      "execution_count": 60,
      "outputs": [
        {
          "output_type": "display_data",
          "data": {
            "text/plain": [
              "0it [00:00, ?it/s]"
            ],
            "application/vnd.jupyter.widget-view+json": {
              "version_major": 2,
              "version_minor": 0,
              "model_id": "7240a046b9f44e2f9b36fc1a734c6935"
            }
          },
          "metadata": {}
        }
      ]
    },
    {
      "cell_type": "markdown",
      "source": [
        "Publish iteration after training is complete"
      ],
      "metadata": {
        "id": "4o9RnMh9W3_X"
      }
    },
    {
      "cell_type": "code",
      "source": [
        "# The iteration is now trained. Publish it to the project endpoint\n",
        "trainer.publish_iteration(project.id, iteration.id, publish_iteration_name, prediction_resource_id)\n",
        "print (\"Done!\")"
      ],
      "metadata": {
        "colab": {
          "base_uri": "https://localhost:8080/"
        },
        "id": "McAHSWhPiW9l",
        "outputId": "8a191bc7-812d-4625-e78e-7d4306a9bc90"
      },
      "execution_count": 65,
      "outputs": [
        {
          "output_type": "stream",
          "name": "stdout",
          "text": [
            "Done!\n"
          ]
        }
      ]
    },
    {
      "cell_type": "markdown",
      "source": [
        "Open the project just created from [customvision.ai](https://www.customvision.ai/projects). Prediction enpoints an keys are under Performance | Prediction URL.\n",
        "\n",
        "The instructions vary depending on how an image is provided - an image url vs an image file.\n",
        "\n",
        "Pass a test image url of a product that is in the training set. This image should not be from the training set. "
      ],
      "metadata": {
        "id": "RSwFZTVCW84m"
      }
    },
    {
      "cell_type": "code",
      "source": [
        "import requests\n",
        "endpoint_url=\"your_endpoint_url_here\"\n",
        "headers={\"Prediction-Key\":\"<your_prediction_key_here\",\n",
        "         \"Content-Type\":\"application/json\"}\n",
        "# Replace with any image of a product (from the training set) that isn't in the set of images used for training\n",
        "test_image_url = \"https://raw.githubusercontent.com/vinayshanbhag/test_images/main/apple_macbook_air_2020_1.jpg\" \n",
        "body = {\"Url\": test_image_url}\n",
        "display(HTML(f\"<p>Test Image:</p><img src='{test_image_url}' width='150'/>\"))"
      ],
      "metadata": {
        "colab": {
          "base_uri": "https://localhost:8080/",
          "height": 163
        },
        "id": "T4Bj25kN0Bgn",
        "outputId": "b553036f-9ba3-44e1-9ef5-6de77918c1c2"
      },
      "execution_count": 96,
      "outputs": [
        {
          "output_type": "display_data",
          "data": {
            "text/plain": [
              "<IPython.core.display.HTML object>"
            ],
            "text/html": [
              "<p>Test Image:</p><img src='https://raw.githubusercontent.com/vinayshanbhag/test_images/main/apple_macbook_air_2020_1.jpg' width='150'/>"
            ]
          },
          "metadata": {}
        }
      ]
    },
    {
      "cell_type": "markdown",
      "source": [
        "Call Rest API endpoint and display predictions and probability scores"
      ],
      "metadata": {
        "id": "AFcAm-CFYIyZ"
      }
    },
    {
      "cell_type": "code",
      "source": [
        "resp = requests.post(endpoint_url,json=body, headers=headers).json()\n",
        "print(\"Predictions:\")\n",
        "[(i['tagName'],i['probability']) for i in resp['predictions'][:5]]"
      ],
      "metadata": {
        "colab": {
          "base_uri": "https://localhost:8080/"
        },
        "id": "9Z70YMjRhN6f",
        "outputId": "01c0f967-8ac9-4ade-8ce7-ca8b0996bc57"
      },
      "execution_count": 99,
      "outputs": [
        {
          "output_type": "stream",
          "name": "stdout",
          "text": [
            "Predictions:\n"
          ]
        },
        {
          "output_type": "execute_result",
          "data": {
            "text/plain": [
              "[('HP Spectre X360', 0.7564705),\n",
              " ('HP EliteBook', 0.06620501),\n",
              " ('Apple MacBook Air 2020', 0.05980634),\n",
              " ('HP ProBook', 0.034518816),\n",
              " ('Sony PS4 Console', 0.016161513)]"
            ]
          },
          "metadata": {},
          "execution_count": 99
        }
      ]
    },
    {
      "cell_type": "code",
      "source": [
        ""
      ],
      "metadata": {
        "id": "EZNWhZmVNuwe"
      },
      "execution_count": null,
      "outputs": []
    }
  ]
}